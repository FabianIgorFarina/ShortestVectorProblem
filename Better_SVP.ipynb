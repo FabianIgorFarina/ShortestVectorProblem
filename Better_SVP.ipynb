{
 "cells": [
  {
   "cell_type": "code",
   "execution_count": 216,
   "id": "isolated-trinidad",
   "metadata": {},
   "outputs": [],
   "source": [
    "from sympy import *\n",
    "import numpy as np\n",
    "import numpy\n",
    "import pandas as pd\n",
    "init_printing(use_unicode=True)"
   ]
  },
  {
   "cell_type": "code",
   "execution_count": 211,
   "id": "accepting-jacksonville",
   "metadata": {},
   "outputs": [
    {
     "data": {
      "text/latex": [
       "$\\displaystyle \\left[\\begin{matrix}1 & 2 & 3\\\\2 & 2 & 2\\\\3 & 0 & 1\\end{matrix}\\right]$"
      ],
      "text/plain": [
       "⎡1  2  3⎤\n",
       "⎢       ⎥\n",
       "⎢2  2  2⎥\n",
       "⎢       ⎥\n",
       "⎣3  0  1⎦"
      ]
     },
     "execution_count": 211,
     "metadata": {},
     "output_type": "execute_result"
    }
   ],
   "source": [
    "B = Matrix([[1, 2, 3], [2, 2, 2], [3, 0, 1]])\n",
    "B"
   ]
  },
  {
   "cell_type": "code",
   "execution_count": 212,
   "id": "trying-colony",
   "metadata": {},
   "outputs": [],
   "source": [
    "(d1, d2) = shape(B)"
   ]
  },
  {
   "cell_type": "code",
   "execution_count": 213,
   "id": "convenient-ranking",
   "metadata": {},
   "outputs": [
    {
     "data": {
      "text/latex": [
       "$\\displaystyle \\left[\\begin{matrix}14 & 12 & 6\\\\12 & 12 & 8\\\\6 & 8 & 10\\end{matrix}\\right]$"
      ],
      "text/plain": [
       "⎡14  12  6 ⎤\n",
       "⎢          ⎥\n",
       "⎢12  12  8 ⎥\n",
       "⎢          ⎥\n",
       "⎣6   8   10⎦"
      ]
     },
     "execution_count": 213,
     "metadata": {},
     "output_type": "execute_result"
    }
   ],
   "source": [
    "G = Matrix([[B.row(i)*B.row(j).T for i in range(0, d1)] for j in range(0,d2)])\n",
    "G"
   ]
  },
  {
   "cell_type": "code",
   "execution_count": 221,
   "id": "necessary-print",
   "metadata": {},
   "outputs": [],
   "source": [
    "def max_num_qubits_binary(lattice):\n",
    "    return int(np.ceil((3.0/2.0)*shape(lattice)[0]*np.log2(shape(lattice)[0])+shape(lattice)[0]+np.log2(np.absolute(lattice.det()))))"
   ]
  },
  {
   "cell_type": "code",
   "execution_count": 222,
   "id": "sacred-settle",
   "metadata": {},
   "outputs": [
    {
     "ename": "TypeError",
     "evalue": "loop of ufunc does not support argument 0 of type Integer which has no callable log2 method",
     "output_type": "error",
     "traceback": [
      "\u001b[0;31m---------------------------------------------------------------------------\u001b[0m",
      "\u001b[0;31mAttributeError\u001b[0m                            Traceback (most recent call last)",
      "\u001b[0;31mAttributeError\u001b[0m: 'Integer' object has no attribute 'log2'",
      "\nThe above exception was the direct cause of the following exception:\n",
      "\u001b[0;31mTypeError\u001b[0m                                 Traceback (most recent call last)",
      "\u001b[0;32m/tmp/ipykernel_2073/3866268796.py\u001b[0m in \u001b[0;36m<module>\u001b[0;34m\u001b[0m\n\u001b[0;32m----> 1\u001b[0;31m \u001b[0mmax_num_qubits_binary\u001b[0m\u001b[0;34m(\u001b[0m\u001b[0mB\u001b[0m\u001b[0;34m)\u001b[0m\u001b[0;34m\u001b[0m\u001b[0;34m\u001b[0m\u001b[0m\n\u001b[0m",
      "\u001b[0;32m/tmp/ipykernel_2073/428975861.py\u001b[0m in \u001b[0;36mmax_num_qubits_binary\u001b[0;34m(lattice)\u001b[0m\n\u001b[1;32m      1\u001b[0m \u001b[0;32mdef\u001b[0m \u001b[0mmax_num_qubits_binary\u001b[0m\u001b[0;34m(\u001b[0m\u001b[0mlattice\u001b[0m\u001b[0;34m)\u001b[0m\u001b[0;34m:\u001b[0m\u001b[0;34m\u001b[0m\u001b[0;34m\u001b[0m\u001b[0m\n\u001b[0;32m----> 2\u001b[0;31m     \u001b[0;32mreturn\u001b[0m \u001b[0mint\u001b[0m\u001b[0;34m(\u001b[0m\u001b[0mnp\u001b[0m\u001b[0;34m.\u001b[0m\u001b[0mceil\u001b[0m\u001b[0;34m(\u001b[0m\u001b[0;34m(\u001b[0m\u001b[0;36m3.0\u001b[0m\u001b[0;34m/\u001b[0m\u001b[0;36m2.0\u001b[0m\u001b[0;34m)\u001b[0m\u001b[0;34m*\u001b[0m\u001b[0mshape\u001b[0m\u001b[0;34m(\u001b[0m\u001b[0mlattice\u001b[0m\u001b[0;34m)\u001b[0m\u001b[0;34m[\u001b[0m\u001b[0;36m0\u001b[0m\u001b[0;34m]\u001b[0m\u001b[0;34m*\u001b[0m\u001b[0mnp\u001b[0m\u001b[0;34m.\u001b[0m\u001b[0mlog2\u001b[0m\u001b[0;34m(\u001b[0m\u001b[0mshape\u001b[0m\u001b[0;34m(\u001b[0m\u001b[0mlattice\u001b[0m\u001b[0;34m)\u001b[0m\u001b[0;34m[\u001b[0m\u001b[0;36m0\u001b[0m\u001b[0;34m]\u001b[0m\u001b[0;34m)\u001b[0m\u001b[0;34m+\u001b[0m\u001b[0mshape\u001b[0m\u001b[0;34m(\u001b[0m\u001b[0mlattice\u001b[0m\u001b[0;34m)\u001b[0m\u001b[0;34m[\u001b[0m\u001b[0;36m0\u001b[0m\u001b[0;34m]\u001b[0m\u001b[0;34m+\u001b[0m\u001b[0mnp\u001b[0m\u001b[0;34m.\u001b[0m\u001b[0mlog2\u001b[0m\u001b[0;34m(\u001b[0m\u001b[0mnp\u001b[0m\u001b[0;34m.\u001b[0m\u001b[0mabsolute\u001b[0m\u001b[0;34m(\u001b[0m\u001b[0mlattice\u001b[0m\u001b[0;34m.\u001b[0m\u001b[0mdet\u001b[0m\u001b[0;34m(\u001b[0m\u001b[0;34m)\u001b[0m\u001b[0;34m)\u001b[0m\u001b[0;34m)\u001b[0m\u001b[0;34m)\u001b[0m\u001b[0;34m)\u001b[0m\u001b[0;34m\u001b[0m\u001b[0;34m\u001b[0m\u001b[0m\n\u001b[0m",
      "\u001b[0;31mTypeError\u001b[0m: loop of ufunc does not support argument 0 of type Integer which has no callable log2 method"
     ]
    }
   ],
   "source": [
    "max_num_qubits_binary(B)"
   ]
  },
  {
   "cell_type": "code",
   "execution_count": 205,
   "id": "breathing-correspondence",
   "metadata": {},
   "outputs": [
    {
     "data": {
      "image/png": "iVBORw0KGgoAAAANSUhEUgAAANsAAAAXCAYAAACCqTqPAAAFYElEQVR4nO3cd4wVVRTH8c+CUQwQUIkoGoMV/xBjQaNGjKhYozGxRWMLij3GP8WIWY1BDYIliuUfaxRrsIVoLImKvYO9ECuiiIASdUXxjzMTZ4e3u++93TezkPklk9k9t8x3Z+bce+65721be3u7SpUqtV4DurDfjZ8wuECWSpXWBe2O1TgjX1DL2cbhZFyNla3lqlRpndPbmIMrMSRbUMvZpmEFbmk5VqVK66auwma4MGvMO9sOOAgP4o9iuCpVWuf0Bj7B2RiYGvPONglteKCLTsbjUXyJP8W67g0xG5alimnt4+mPTH3NMxtbickLazrbQfgHr9VofAleFAvA5zATT2ADHNokUG9VMa19PP2RqRU885LzxNTQlkn9D8ZyfIyxuYYj8T1exYHoyJWPwJImoZpVxbT28fRHplbxDMMyvIk96TyzbSHiy0U1Gu6YlH1WA0aTML1VxdSz+hsP/Y+pVTzLRTi6VWrIOtsmyfnXGg0/TBpPwuM4ARt1c6HzsDC52NsiHu5r1cu0nwgJfhD7H8e2gKVRpilixFuBnxO+nUrkgfPxQcK0Qoz0R5TMlOoS8exuKpmnPeHIHj920/dSMTOis7Ol2cdBNRotwb54WEy1s8VLMhe75eqegBvEwnJXEbvOlfHwPlK9TIPxPi7o4+v3hml/zMI+OACr8Cw2LokHvsPFYt0yDs+L/aKdS2SCvTBZDAStUKM8n2LzzJFfcmW1oUxWP7tmGyVi13nJxbvS+mK2OAvH4RcRgv6VlL8ubszkTJvPkz9mSjf99kY9MaVanZQ/3CKOZpiIzc/lOFrMcmXzpFoqntltJTENwzviXboMC7R20OyJp11ERvVEIQPEILoQ26aGVIuER4/poZMOMQofj5dF+DkyA7s7nsm1eUaM4q1Sd0xlqRGmoeJZLO0nPANxohgEXimR6XYxMD7fQoZGeGAbMSktxP0Y3UVfY8Q22nupIetsq0X6cwS2y9h3lXhmTtsJD/9GhCCStgOxOFd3sdhRz+rO5JqndwHbnRphakRlMV0vHkp+y6VonrH4XYzks8RMO78kpsmJfWod/TbL1Og9eh2niO2AydhUrG1rhf97JecXUsN6uQqP4Bgcgi8S24U4TWzwfSg2+7bGUUn5JPyb62d17ve2GrbU0VfVAO1JzTDVozKYpovQZbzY4yyT51PsguHiPbhbrC8XFMw0Rqz5x6udIcyrWaZG79HczM/zhaN9JZx8Zq7vg8XzfCw11HK2xTgVNye2x5J6e4o4dpDI7N2Ha8R6LNWS5AL5WWxTa852Y/EbntK4GmFqREUzzRAf+p7g/8GtTJ6ODMdb2AMX4cyCmfYWUVLWyQeKQekckfTKrjWbZerte7QSH2H7nH2YiAqexLepMe9sHTpnEt8VGak5dcJ3iFT/RDyUsU8UjpxquMhyzVB7q6EnNcJUr4YrlulGkbmdIB5Y2Ty1NEDn7HRRTHOEs2d1h3j5p+k82/WGqV6erjRI7NO9kLOfmpTNyBrzzgbXidHjChzZBMBM3COm5nniw5ijcGumznj8bc2ptxUaovMadLQIlZaKmLwMplliRjs64Ugjgd+To2ge4itVT4mReChOEiFkdq+tKKZlyZHVSnGvFuTsRd6na0W2+BsRrU0Vs+xdmTobigzuI3gp27iWs/0pFoETko4a/U7bAyKLc6nYh1iAw/F1ps4Tau/ntULjdB55pifnu3ReUBfJdG5yfi5nv1ykl4vmIRz+3uS8XGzfHIanM3WKZqpHRTJtKTKQI0Tm/jWRCMm+26NFFvXOfOO26t8iVKpUjLr6twiVKlXqY1XOVqlSQaqcrVKlgvQfljAAjnpK3+kAAAAASUVORK5CYII=\n",
      "text/latex": [
       "$\\displaystyle \\left( s_{0}, \\  s_{1}, \\  s_{2}, \\  s_{3}, \\  s_{4}, \\  s_{5}\\right)$"
      ],
      "text/plain": [
       "(s₀, s₁, s₂, s₃, s₄, s₅)"
      ]
     },
     "execution_count": 205,
     "metadata": {},
     "output_type": "execute_result"
    }
   ],
   "source": [
    "s = []\n",
    "s = symbols('s:6')\n",
    "s"
   ]
  },
  {
   "cell_type": "code",
   "execution_count": 206,
   "id": "valid-blank",
   "metadata": {},
   "outputs": [],
   "source": [
    "num_qubits = 6\n",
    "shape_qubits = [2, 3]\n",
    "\n",
    "f = []\n",
    "for i in range(0,shape_qubits[0]):\n",
    "    expr = s[i*shape_qubits[1]]\n",
    "    for j in range(1, shape_qubits[1]):\n",
    "        expr += (2**j)*s[i*shape_qubits[1]+j]\n",
    "    expr -= 2**(shape_qubits[1]-1)\n",
    "    f.append(expr)\n",
    "\n",
    "H = 0\n",
    "for i in range(0,shape_qubits[0]):\n",
    "    for j in range(0,shape_qubits[0]):\n",
    "        H += G[i,j]*f[i]*f[j]\n",
    "\n",
    "replacements = [(s[i]**2, s[i]) for i in range(6)]\n",
    "H.subs(replacements)\n",
    "H = H.expand().subs(replacements)\n",
    "h = {s[i]: H.collect(s[i]).coeff(s[i]) for i in range(1, num_qubits)}\n",
    "\n",
    "Q = H.as_coefficients_dict()\n",
    "C = 0\n",
    "h = {}\n",
    "J = {}\n",
    "Q_ = iter(Q)\n",
    "for i in range(0, len(Q)):\n",
    "    key = next(Q_)\n",
    "    if i == 0:\n",
    "        C = Q[key]\n",
    "    elif i > 0 and i < num_qubits + 1:\n",
    "        h[key] = Q[key]\n",
    "    else:\n",
    "        J[key] = Q[key]"
   ]
  },
  {
   "cell_type": "code",
   "execution_count": 207,
   "id": "retained-situation",
   "metadata": {},
   "outputs": [
    {
     "data": {
      "text/html": [
       "<div>\n",
       "<style scoped>\n",
       "    .dataframe tbody tr th:only-of-type {\n",
       "        vertical-align: middle;\n",
       "    }\n",
       "\n",
       "    .dataframe tbody tr th {\n",
       "        vertical-align: top;\n",
       "    }\n",
       "\n",
       "    .dataframe thead th {\n",
       "        text-align: right;\n",
       "    }\n",
       "</style>\n",
       "<table border=\"1\" class=\"dataframe\">\n",
       "  <thead>\n",
       "    <tr style=\"text-align: right;\">\n",
       "      <th></th>\n",
       "      <th>x0 x1 x2 x3 x4 x5</th>\n",
       "      <th>Energy</th>\n",
       "    </tr>\n",
       "  </thead>\n",
       "  <tbody>\n",
       "    <tr>\n",
       "      <th>9</th>\n",
       "      <td>0  0  1  0  0  1</td>\n",
       "      <td>0</td>\n",
       "    </tr>\n",
       "    <tr>\n",
       "      <th>46</th>\n",
       "      <td>1  0  1  1  1  0</td>\n",
       "      <td>2</td>\n",
       "    </tr>\n",
       "    <tr>\n",
       "      <th>53</th>\n",
       "      <td>1  1  0  1  0  1</td>\n",
       "      <td>2</td>\n",
       "    </tr>\n",
       "    <tr>\n",
       "      <th>19</th>\n",
       "      <td>0  1  0  0  1  1</td>\n",
       "      <td>8</td>\n",
       "    </tr>\n",
       "    <tr>\n",
       "      <th>26</th>\n",
       "      <td>0  1  1  0  1  0</td>\n",
       "      <td>8</td>\n",
       "    </tr>\n",
       "    <tr>\n",
       "      <th>...</th>\n",
       "      <td>...</td>\n",
       "      <td>...</td>\n",
       "    </tr>\n",
       "    <tr>\n",
       "      <th>36</th>\n",
       "      <td>1  0  0  1  0  0</td>\n",
       "      <td>450</td>\n",
       "    </tr>\n",
       "    <tr>\n",
       "      <th>2</th>\n",
       "      <td>0  0  0  0  1  0</td>\n",
       "      <td>464</td>\n",
       "    </tr>\n",
       "    <tr>\n",
       "      <th>32</th>\n",
       "      <td>1  0  0  0  0  0</td>\n",
       "      <td>606</td>\n",
       "    </tr>\n",
       "    <tr>\n",
       "      <th>4</th>\n",
       "      <td>0  0  0  1  0  0</td>\n",
       "      <td>620</td>\n",
       "    </tr>\n",
       "    <tr>\n",
       "      <th>0</th>\n",
       "      <td>0  0  0  0  0  0</td>\n",
       "      <td>800</td>\n",
       "    </tr>\n",
       "  </tbody>\n",
       "</table>\n",
       "<p>64 rows × 2 columns</p>\n",
       "</div>"
      ],
      "text/plain": [
       "    x0 x1 x2 x3 x4 x5  Energy\n",
       "9    0  0  1  0  0  1       0\n",
       "46   1  0  1  1  1  0       2\n",
       "53   1  1  0  1  0  1       2\n",
       "19   0  1  0  0  1  1       8\n",
       "26   0  1  1  0  1  0       8\n",
       "..                ...     ...\n",
       "36   1  0  0  1  0  0     450\n",
       "2    0  0  0  0  1  0     464\n",
       "32   1  0  0  0  0  0     606\n",
       "4    0  0  0  1  0  0     620\n",
       "0    0  0  0  0  0  0     800\n",
       "\n",
       "[64 rows x 2 columns]"
      ]
     },
     "execution_count": 207,
     "metadata": {},
     "output_type": "execute_result"
    }
   ],
   "source": [
    "E = lambdify(s,H,'numpy')\n",
    "name = []\n",
    "Energy = []\n",
    "for q in [0,1]:\n",
    "    for w in [0,1]:\n",
    "        for e in [0,1]:\n",
    "            for r in [0,1]:\n",
    "                for t in [0,1]:\n",
    "                    for z in [0,1]:\n",
    "                        name.append(' '+str(q)+'  '+str(w)+'  '+str(e)+'  '+str(r)+'  '+str(t)+'  '+str(z))\n",
    "                        Energy.append(E(q,w,e,r,t,z))\n",
    "\n",
    "data = {'x0 x1 x2 x3 x4 x5':name, 'Energy':Energy}\n",
    "df = pd.DataFrame(data=data)\n",
    "df.sort_values('Energy')"
   ]
  },
  {
   "cell_type": "code",
   "execution_count": null,
   "id": "bridal-netscape",
   "metadata": {},
   "outputs": [],
   "source": []
  },
  {
   "cell_type": "code",
   "execution_count": null,
   "id": "lovely-virus",
   "metadata": {},
   "outputs": [],
   "source": []
  }
 ],
 "metadata": {
  "kernelspec": {
   "display_name": "Python 3 (ipykernel)",
   "language": "python",
   "name": "python3"
  },
  "language_info": {
   "codemirror_mode": {
    "name": "ipython",
    "version": 3
   },
   "file_extension": ".py",
   "mimetype": "text/x-python",
   "name": "python",
 ����۝�\��^ܝ\����]ۈ���Y�Y[���^\����\]یȋ���\��[ۈ���ˎK����B�K�����ܛX]�������ܛX]�Z[�܈��B�