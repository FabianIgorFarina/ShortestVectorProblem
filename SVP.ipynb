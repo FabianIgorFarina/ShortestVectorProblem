{
 "cells": [
  {
   "cell_type": "markdown",
   "id": "cognitive-offer",
   "metadata": {},
   "source": [
    "# Toy-Problem für die Lösung vom SVP"
   ]
  },
  {
   "cell_type": "code",
   "execution_count": 148,
   "id": "80c01637",
   "metadata": {},
   "outputs": [],
   "source": [
    "import numpy as np\n",
    "import numpy.matlib as mat\n",
    "import dimod\n",
    "from dimod.reference.samplers import ExactSolver"
   ]
  },
  {
   "cell_type": "code",
   "execution_count": 149,
   "id": "3564b32f",
   "metadata": {},
   "outputs": [],
   "source": [
    "def create_random_lattice(num_vectors, dimension, max_value):\n",
    "    return np.random.randint(0, max_value, (num_vectors, dimension))"
   ]
  },
  {
   "cell_type": "code",
   "execution_count": 150,
   "id": "5fb8f039",
   "metadata": {},
   "outputs": [
    {
     "name": "stdout",
     "output_type": "stream",
     "text": [
      "B := \n",
      " [[1 2]\n",
      " [2 2]]\n"
     ]
    }
   ],
   "source": [
    "lattice = create_random_lattice(2,2,7)\n",
    "lattice = np.array([[1,2], [2,2]])\n",
    "print(\"B := \\n\",lattice)"
   ]
  },
  {
   "cell_type": "code",
   "execution_count": 151,
   "id": "444c9aa1",
   "metadata": {},
   "outputs": [
    {
     "data": {
      "text/plain": [
       "6"
      ]
     },
     "execution_count": 151,
     "metadata": {},
     "output_type": "execute_result"
    }
   ],
   "source": [
    "mat.matmul(lattice[0], lattice[1])"
   ]
  },
  {
   "cell_type": "code",
   "execution_count": 152,
   "id": "fde7e196",
   "metadata": {},
   "outputs": [],
   "source": [
    "def calculate_gram_matrix(lattice):\n",
    "    return np.array([[mat.matmul(lattice[i], lattice[j]) \n",
    "                      for j in range(0, len(lattice[0]))] \n",
    "                      for i in range(0, len(lattice))])"
   ]
  },
  {
   "cell_type": "code",
   "execution_count": 153,
   "id": "4f79a3f9",
   "metadata": {},
   "outputs": [
    {
     "name": "stdout",
     "output_type": "stream",
     "text": [
      "[[5 6]\n",
      " [6 8]]\n"
     ]
    }
   ],
   "source": [
    "gram_matrix = np.ones((2,2)).astype(int)\n",
    "gram_matrix = calculate_gram_matrix(lattice)\n",
    "print(gram_matrix)"
   ]
  },
  {
   "cell_type": "code",
   "execution_count": 154,
   "id": "7e3b503c",
   "metadata": {},
   "outputs": [],
   "source": [
    "def max_num_qubits_binary(lattice):\n",
    "    return int(np.ceil((3.0/2.0)*len(lattice)*np.log2(len(lattice))+len(lattice)+np.log2(np.absolute(np.linalg.det(lattice)))))"
   ]
  },
  {
   "cell_type": "code",
   "execution_count": 155,
   "id": "cc79ca85",
   "metadata": {},
   "outputs": [
    {
     "name": "stdout",
     "output_type": "stream",
     "text": [
      "[2, 3]\n"
     ]
    }
   ],
   "source": [
    "shape_qubits_binary = [num_qudits, dim_qudits] = [len(lattice), int(np.ceil(max_num_qubits_binary(lattice)/float(len(lattice))))]\n",
    "print(shape_qubits_binary)"
   ]
  },
  {
   "cell_type": "code",
   "execution_count": 156,
   "id": "d65caf49",
   "metadata": {},
   "outputs": [],
   "source": [
    "def max_num_qubits_hamming(lattice):\n",
    "    return int(2.0*np.power(len(lattice), 5.0/2.0)*np.power(np.absolute(np.linalg.det(lattice)), (1.0/len(lattice))))"
   ]
  },
  {
   "cell_type": "code",
   "execution_count": 157,
   "id": "8b8ccda2",
   "metadata": {},
   "outputs": [
    {
     "data": {
      "image/png": "[encoded data removed]",
      "text/latex": [
       "$\\displaystyle 16$"
      ],
      "text/plain": [
       "16"
      ]
     },
     "execution_count": 157,
     "metadata": {},
     "output_type": "execute_result"
    }
   ],
   "source": [
    "max_num_qubits_hamming(lattice)"
   ]
  },
  {
   "cell_type": "code",
   "execution_count": 158,
   "id": "ac3fa9f1",
   "metadata": {},
   "outputs": [],
   "source": [
    "def create_binary_coefficients(shape_qubits_binary, gram_matrix):\n",
    "    pass"
   ]
  },
  {
   "cell_type": "code",
   "execution_count": 159,
   "id": "ede5a128",
   "metadata": {},
   "outputs": [],
   "source": [
    "#[h, J] = create_binary_coefficients(shape_qubits_binary, gram_matrix)"
   ]
  },
  {
   "cell_type": "markdown",
   "id": "proud-uganda",
   "metadata": {},
   "source": [
    "## QUBO Binary"
   ]
  },
  {
   "cell_type": "code",
   "execution_count": 160,
   "id": "b5bf3276",
   "metadata": {},
   "outputs": [],
   "source": [
    "# lineare Terme QUBO\n",
    "h = {'x0': -83, 'x1': -156, 'x2': -272, 'x3': -104, 'x4': -192, 'x5': -320}"
   ]
  },
  {
   "cell_type": "code",
   "execution_count": 161,
   "id": "c7c7c409",
   "metadata": {},
   "outputs": [],
   "source": [
    "# quadratische Terme QUBO\n",
    "J = {('x1', 'x0'): 20, ('x2', 'x0'): 40, ('x2', 'x1'): 80, ('x3', 'x0'): 12, ('x4', 'x0'): 24, ('x5', 'x0'): 48, ('x3', 'x1'): 24, ('x4', 'x1'): 48, ('x5', 'x1'): 96, ('x3', 'x2'): 48, ('x4', 'x2'): 96, ('x5', 'x2'): 192, ('x4', 'x3'): 32, ('x5', 'x3'): 64, ('x5', 'x4'): 128}"
   ]
  },
  {
   "cell_type": "code",
   "execution_count": 162,
   "id": "a7ebeca4",
   "metadata": {},
   "outputs": [
    {
     "name": "stdout",
     "output_type": "stream",
     "text": [
      "   x0 x1 x2 x3 x4 x5 energy num_oc.\n",
      "56  0  0  1  0  0  1    0.0       1\n",
      "22  1  0  1  1  1  0    1.0       1\n",
      "50  1  1  0  1  0  1    1.0       1\n",
      "20  0  1  1  1  1  0    4.0       1\n",
      "27  0  1  1  0  1  0    4.0       1\n",
      "35  0  1  0  0  1  1    4.0       1\n",
      "51  0  1  0  1  0  1    4.0       1\n",
      "26  1  1  1  0  1  0    5.0       1\n",
      "33  1  0  0  0  1  1    5.0       1\n",
      "57  1  0  1  0  0  1    5.0       1\n",
      "61  1  1  0  0  0  1    5.0       1\n",
      "23  0  0  1  1  1  0    8.0       1\n",
      "47  0  0  0  1  1  1    8.0       1\n",
      "55  0  0  1  1  0  1    8.0       1\n",
      "10  1  1  1  1  0  0    9.0       1\n",
      "46  1  0  0  1  1  1    9.0       1\n",
      "25  1  0  1  0  1  0   13.0       1\n",
      "34  1  1  0  0  1  1   13.0       1\n",
      "32  0  0  0  0  1  1   16.0       1\n",
      "21  1  1  1  1  1  0   17.0       1\n",
      "49  1  0  0  1  0  1   17.0       1\n",
      "11  0  1  1  1  0  0   20.0       1\n",
      "44  0  1  0  1  1  1   20.0       1\n",
      "59  0  1  1  0  0  1   20.0       1\n",
      "60  0  1  0  0  0  1   20.0       1\n",
      "18  1  1  0  1  1  0   25.0       1\n",
      "54  1  0  1  1  0  1   25.0       1\n",
      "5   1  1  1  0  0  0   29.0       1\n",
      "24  0  0  1  0  1  0   32.0       1\n",
      "39  0  0  1  0  1  1   32.0       1\n",
      "48  0  0  0  1  0  1   40.0       1\n",
      "9   1  0  1  1  0  0   41.0       1\n",
      "45  1  1  0  1  1  1   41.0       1\n",
      "58  1  1  1  0  0  1   45.0       1\n",
      "62  1  0  0  0  0  1   45.0       1\n",
      "4   0  1  1  0  0  0   52.0       1\n",
      "19  0  1  0  1  1  0   52.0       1\n",
      "52  0  1  1  1  0  1   52.0       1\n",
      "29  1  1  0  0  1  0   61.0       1\n",
      "38  1  0  1  0  1  1   61.0       1\n",
      "8   0  0  1  1  0  0   72.0       1\n",
      "40  0  0  1  1  1  1   72.0       1\n",
      "63  0  0  0  0  0  1   80.0       1\n",
      "6   1  0  1  0  0  0   85.0       1\n",
      "17  1  0 ��� 1  1  0   89.0       1\n",
      "53  1  1  1  1  0  1   89.0       1\n",
      "28  0  1  0  0  1  0  100.0       1\n",
      "36  0  1  1  0  1  1  100.0       1\n",
      "13  1  1  0  1  0  0  113.0       1\n",
      "41  1  0  1  1  1  1  113.0       1\n",
      "7   0  0  1  0  0  0  128.0       1\n",
      "16  0  0  0  1  1  0  136.0       1\n",
      "30  1  0  0  0  1  0  149.0       1\n",
      "37  1  1  1  0  1  1  149.0       1\n",
      "12  0  1  0  1  0  0  164.0       1\n",
      "43  0  1  1  1  1  1  164.0       1\n",
      "2   1  1  0  0  0  0  181.0       1\n",
      "31  0  0  0  0  1  0  208.0       1\n",
      "14  1  0  0  1  0  0  225.0       1\n",
      "42  1  1  1  1  1  1  225.0       1\n",
      "3   0  1  0  0  0  0  244.0       1\n",
      "15  0  0  0  1  0  0  296.0       1\n",
      "1   1  0  0  0  0  0  317.0       1\n",
      "0   0  0  0  0  0  0  400.0       1\n",
      "['BINARY', 64 rows, 64 samples, 6 variables]\n"
     ]
    }
   ],
   "source": [
    "bqm = dimod.BinaryQuadraticModel(h, J, 400, 'BINARY')\n",
    "sampler = ExactSolver()\n",
    "response = sampler.sample(bqm)\n",
    "print(response)"
   ]
  },
  {
   "cell_type": "code",
   "execution_count": 163,
   "id": "9f753069",
   "metadata": {},
   "outputs": [],
   "source": [
    "h_ = {('x0','x0'): -83, ('x1','x1'): -156, ('x2','x2'): -272, ('x3','x3'): -104, ('x4','x4'): -192, ('x5','x5'): -320}\n",
    "Q = {}\n",
    "for key, val in J.items():\n",
    "    Q[key] = val\n",
    "for key, val in h_.items():\n",
    "    Q[key] = val"
   ]
  },
  {
   "cell_type": "markdown",
   "id": "interested-antibody",
   "metadata": {},
   "source": [
    "## Ising Binary"
   ]
  },
  {
   "cell_type": "code",
   "execution_count": 164,
   "id": "touched-benjamin",
   "metadata": {},
   "outputs": [
    {
     "data": {
      "text/plain": [
       "({'x1': -11.0, 'x0': -5.5, 'x2': -22.0, 'x3': -7.0, 'x4': -14.0, 'x5': -28.0},\n",
       " {('x1', 'x0'): 5.0,\n",
       "  ('x2', 'x0'): 10.0,\n",
       "  ('x2', 'x1'): 20.0,\n",
       "  ('x3', 'x0'): 3.0,\n",
       "  ('x4', 'x0'): 6.0,\n",
       "  ('x5', 'x0'): 12.0,\n",
       "  ('x3', 'x1'): 6.0,\n",
       "  ('x4', 'x1'): 12.0,\n",
       "  ('x5', 'x1'): 24.0,\n",
       "  ('x3', 'x2'): 12.0,\n",
       "  ('x4', 'x2'): 24.0,\n",
       "  ('x5', 'x2'): 48.0,\n",
       "  ('x4', 'x3'): 8.0,\n",
       "  ('x5', 'x3'): 16.0,\n",
       "  ('x5', 'x4'): 32.0},\n",
       " 74.5)"
      ]
     },
     "execution_count": 164,
     "metadata": {},
     "output_type": "execute_result"
    }
   ],
   "source": [
    "ising = dimod.utilities.qubo_to_ising(Q, 400)\n",
    "ising # Die Koeffizienten für das Ising-Model"
   ]
  },
  {
   "cell_type": "code",
   "execution_count": 165,
   "id": "better-fight",
   "metadata": {},
   "outputs": [
    {
     "name": "stdout",
     "output_type": "stream",
     "text": [
      "   x0 x1 x2 x3 x4 x5 energy num_oc.\n",
      "56 -1 -1 +1 -1 -1 +1    0.0       1\n",
      "20 +1 -1 +1 +1 +1 -1    1.0       1\n",
      "50 +1 +1 -1 +1 -1 +1    1.0       1\n",
      "22 -1 +1 +1 +1 +1 -1    4.0       1\n",
      "25 -1 +1 +1 -1 +1 -1    4.0       1\n",
      "33 -1 +1 -1 -1 +1 +1    4.0       1\n",
      "49 -1 +1 -1 +1 -1 +1    4.0       1\n",
      "26 +1 +1 +1 -1 +1 -1    5.0       1\n",
      "35 +1 -1 -1 -1 +1 +1    5.0       1\n",
      "59 +1 -1 +1 -1 -1 +1    5.0       1\n",
      "61 +1 +1 -1 -1 -1 +1    5.0       1\n",
      "23 -1 -1 +1 +1 +1 -1    8.0       1\n",
      "47 -1 -1 -1 +1 +1 +1    8.0       1\n",
      "55 -1 -1 +1 +1 -1 +1    8.0       1\n",
      "10 +1 +1 +1 +1 -1 -1    9.0       1\n",
      "44 +1 -1 -1 +1 +1 +1    9.0       1\n",
      "27 +1 -1 +1 -1 +1 -1   13.0       1\n",
      "34 +1 +1 -1 -1 +1 +1   13.0       1\n",
      "32 -1 -1 -1 -1 +1 +1   16.0       1\n",
      "21 +1 +1 +1 +1 +1 -1   17.0       1\n",
      "51 +1 -1 -1 +1 -1 +1   17.0       1\n",
      "9  -1 +1 +1 +1 -1 -1   20.0       1\n",
      "46 -1 +1 -1 +1 +1 +1   20.0       1\n",
      "57 -1 +1 +1 -1 -1 +1   20.0       1\n",
      "62 -1 +1 -1 -1 -1 +1   20.0       1\n",
      "18 +1 +1 -1 +1 +1 -1   25.0       1\n",
      "52 +1 -1 +1 +1 -1 +1   25.0       1\n",
      "5  +1 +1 +1 -1 -1 -1   29.0       1\n",
      "24 -1 -1 +1 -1 +1 -1   32.0       1\n",
      "39 -1 -1 +1 -1 +1 +1   32.0       1\n",
      "48 -1 -1 -1 +1 -1 +1   40.0       1\n",
      "11 +1 -1 +1 +1 -1 -1   41.0       1\n",
      "45 +1 +1 -1 +1 +1 +1   41.0       1\n",
      "58 +1 +1 +1 -1 -1 +1   45.0       1\n",
      "60 +1 -1 -1 -1 -1 +1   45.0       1\n",
      "6  -1 +1 +1 -1 -1 -1   52.0       1\n",
      "17 -1 +1 -1 +1 +1 -1   52.0       1\n",
      "54 -1 +1 +1 +1 -1 +1   52.0       1\n",
      "29 +1 +1 -1 -1 +1 -1   61.0       1\n",
      "36 +1 -1 +1 -1 +1 +1   61.0       1\n",
      "8  -1 -1 +1 +1 -1 -1   72.0       1\n",
      "40 -1 -1 +1 +1 +1 +1   72.0       1\n",
      "63 -1 -1 -1 -1 -1 +1   80.0       1\n",
      "4  +1 -1 +1 -1 -1 -1   85.0       1\n",
      "19 +1 -1 -1 +1 +1 -1   89.0       1\n",
      "53 +1 +1 +1 +1 -1 +1   89.0       1\n",
      "30 -1 +1 -1 -1 +1 -1  100.0       1\n",
      "38 -1 +1 +1 -1 +1 +1  100.0       1\n",
      "13 +1 +1 -1 +1 -1 -1  113.0       1\n",
      "43 +1 -1 +1 +1 +1 +1  113.0       1\n",
      "7  -1 -1 +1 -1 -1 -1  128.0       1\n",
      "16 -1 -1 -1 +1 +1 -1  136.0       1\n",
      "28 +1 -1 -1 -1 +1 -1  149.0       1\n",
      "37 +1 +1 +1 -1 +1 +1  149.0       1\n",
      "14 -1 +1 -1 +1 -1 -1  164.0       1\n",
      "41 -1 +1 +1 +1 +1 +1  164.0       1\n",
      "2  +1 +1 -1 -1 -1 -1  181.0       1\n",
      "31 -1 -1 -1 -1 +1 -1  208.0       1\n",
      "12 +1 -1 -1 +1 -1 -1  225.0       1\n",
      "42 +1 +1 +1 +1 +1 +1  225.0       1\n",
      "1  -1 +1 -1 -1 -1 -1  244.0       1\n",
      "15 -1 -1 -1 +1 -1 -1  296.0       1\n",
      "3  +1 -1 -1 -1 -1 -1  317.0       1\n",
      "0  -1 -1 -1 -1 -1 -1  400.0       1\n",
      "['SPIN', 64 rows, 64 samples, 6 variables]\n"
     ]
    }
   ],
   "source": [
    "ism = dimod.BinaryQuadraticModel(ising[0], ising[1], ising[2], 'SPIN')\n",
    "response = sampler.sample(ism)\n",
    "print(response)"
   ]
  }
 ],
 "metadata": {
  "kernelspec": {
   "display_name": "Python 3 (ipykernel)",
   "language": "python",
   "name": "python3"
  },
  "language_info": {
   "codemirror_mode": {
    "name": "ipython",
    "version": 3
   },
   "file_extension": ".py",
   "mimetype": "text/x-python",
   "name": "python",
   "nbconvert_exporter": "python",
   "pygments_lexer": "ipython3",
   "version": "3.9.2"
  }
 },
 "nbformat": 4,
 "nbformat_minor": 5
}
